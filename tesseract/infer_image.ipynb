{
 "cells": [
  {
   "cell_type": "code",
   "execution_count": null,
   "id": "ff17d98c",
   "metadata": {},
   "outputs": [],
   "source": [
    "sys_path = r'C:\\Users\\sgala\\PycharmProjects\\OCR\\OCR' # path to project\n",
    "path_to_tesstrain_code = r\"C:/Users/sgala/Documents/python_projects/tesseract/tesstrain\" #download from https://github.com/tesseract-ocr/tesstrain/tree/main and follow instructions\n",
    "#recomended - watch: https://www.youtube.com/watch?v=SvhoBT-PnME&ab_channel=SL7Tech\n",
    "relative_path_to_starting_model = '../tessdata/' #default tesstrain data folder\n",
    "tesseract_exe_path = r\"C:\\Program Files\\Tesseract-OCR\\tesseract.exe\" #install tesseract from: https://github.com/UB-Mannheim/tesseract/wiki\n",
    "tessdata_path = r\"C:\\Program Files\\Tesseract-OCR\\tessdata\\script\" #in tesseract folder after install\n",
    "bash_path = r\"C:/Program Files/Git/bin/bash.exe\" #path to a bash on your computer (problem in windows mostly)"
   ]
  },
  {
   "cell_type": "code",
   "execution_count": null,
   "id": "7edec366",
   "metadata": {},
   "outputs": [],
   "source": [
    "%load_ext autoreload\n",
    "%autoreload 2"
   ]
  },
  {
   "cell_type": "code",
   "execution_count": null,
   "id": "8a30c3a4",
   "metadata": {},
   "outputs": [],
   "source": [
    "import shutil\n",
    "import sys\n",
    "sys.path += [sys_path]\n",
    "from generate_pdfs.create_pdf_dataset import create_pdf_dataset\n",
    "from tesseract.prepare_train_data import pdf_to_train_images\n",
    "from tesseract.prepare_validation_data import process_pdf_to_images_and_data\n",
    "from tesseract.metrics import evaluate_ocr_batch\n",
    "from tesseract.match_gt_pred import match_predictions_to_gt\n",
    "from tesseract.pipeline.preprocess_funcs import align_text,enhance_soft_binarization,resize_image_constant_median_size,preprocess,preprocessConfig\n",
    "from tesseract.pipeline.postprocess_funcs import postprocess_ocr_data,visualize_ocr\n",
    "import pytesseract\n",
    "import pandas as pd\n",
    "import os\n",
    "import cv2\n",
    "import subprocess\n",
    "import numpy as np\n",
    "import matplotlib.pyplot as plt\n",
    "\n",
    "pytesseract.pytesseract.tesseract_cmd = tesseract_exe_path\n",
    "os.environ[\"TESSDATA_PREFIX\"] = tessdata_path"
   ]
  },
  {
   "cell_type": "code",
   "execution_count": null,
   "id": "be37e793",
   "metadata": {},
   "outputs": [],
   "source": [
    "# def align_text(image: np.ndarray) -> np.ndarray:\n",
    "#     \"\"\"\n",
    "#     Corrects the skew of text in an image by detecting and rotating it to the correct orientation.\n",
    "\n",
    "#     Uses the top 10% of contours and aggregates their angles to compute the best rotation.\n",
    "\n",
    "#     :param image: Input binary image (output of enhance_image)\n",
    "#     :return: Deskewed image as a NumPy array\n",
    "#     \"\"\"\n",
    "#     # Invert colors for contour detection (white text on black background)\n",
    "#     inverted = cv2.bitwise_not(image)\n",
    "\n",
    "#     # Detect edges for better contour extraction\n",
    "#     edges = cv2.Canny(inverted, 50, 150)\n",
    "#     plt.figure(figsize=(24, 16))\n",
    "#     plt.imshow(edges)\n",
    "#     plt.show()\n",
    "#     # Find contours\n",
    "#     contours, _ = cv2.findContours(edges, cv2.RETR_EXTERNAL, cv2.CHAIN_APPROX_SIMPLE)\n",
    "\n",
    "#     if not contours:\n",
    "#         print(\"No contours found for alignment.\")\n",
    "#         return image\n",
    "\n",
    "#     # Sort contours by area and select the top 10%\n",
    "#     contours = sorted(contours, key=cv2.contourArea, reverse=True)\n",
    "#     top_contours = contours[:max(1, len(contours) // 10)]\n",
    "#     top_contour_img = np.zeros_like(image)\n",
    "#     for cont in top_contours:\n",
    "#         for c in cont:\n",
    "#             top_contour_img[c[0][1],c[0][0]] = 255\n",
    "    \n",
    "    \n",
    "#     plt.figure(figsize=(24, 16))\n",
    "#     plt.imshow(cv2.dilate(top_contour_img,np.ones((5,5))))\n",
    "#     plt.show()\n",
    "#     angles = []\n",
    "\n",
    "#     for contour in top_contours:\n",
    "#         rect = cv2.minAreaRect(contour)\n",
    "#         print(rect)\n",
    "#         angle = rect[-1]\n",
    "#         angle = (angle + 45)%90 - 45\n",
    "#         angles.append(angle)\n",
    "    \n",
    "#     # Compute the median angle to avoid outliers\n",
    "#     print(angles)\n",
    "#     if angles:\n",
    "#         median_angle = np.median(angles)\n",
    "#     else:\n",
    "#         median_angle = 0\n",
    "#     print(angle)\n",
    "\n",
    "#     # Get image dimensions\n",
    "#     (h, w) = image.shape[:2]\n",
    "#     center = (w // 2, h // 2)\n",
    "\n",
    "#     # Perform the rotation\n",
    "#     rotation_matrix = cv2.getRotationMatrix2D(center, median_angle, 1.0)\n",
    "#     deskewed = cv2.warpAffine(image, rotation_matrix, (w, h), flags=cv2.INTER_LINEAR, borderMode=cv2.BORDER_REPLICATE)\n",
    "\n",
    "#     return deskewed"
   ]
  },
  {
   "cell_type": "code",
   "execution_count": null,
   "id": "24fa5a0f",
   "metadata": {},
   "outputs": [],
   "source": [
    "image_path = r\"C:\\Users\\sgala\\Downloads\\WhatsApp Image 2025-02-06 at 15.53.09.jpeg\"\n",
    "image_orig = cv2.imread(image_path)"
   ]
  },
  {
   "cell_type": "code",
   "execution_count": null,
   "id": "cf9e2156",
   "metadata": {},
   "outputs": [],
   "source": [
    "config = preprocessConfig()\n"
   ]
  },
  {
   "cell_type": "code",
   "execution_count": null,
   "id": "8863231a",
   "metadata": {},
   "outputs": [],
   "source": [
    "from itertools import product"
   ]
  },
  {
   "cell_type": "code",
   "execution_count": null,
   "id": "17543f9d",
   "metadata": {
    "scrolled": false
   },
   "outputs": [],
   "source": [
    "for perform_stages in product([False,True],repeat=3):\n",
    "    config.resize = perform_stages[0]\n",
    "    config.enhance = perform_stages[1]\n",
    "    config.align = perform_stages[2]\n",
    "    preprocessed_image = preprocess(image_orig,config)\n",
    "    cv2.imwrite(\"temp.png\",preprocessed_image)\n",
    "    image_data_pred = pytesseract.image_to_data(\"temp.png\" ,output_type=pytesseract.Output.DICT,lang=\"heb_random_top_five_hundred_two\")\n",
    "    pred_bbox,pred_text,pred_conf = postprocess_ocr_data(image_data_pred,min_confidence=0)\n",
    "    wers = [0]*len(pred_bbox)\n",
    "    image_with_ocr = visualize_ocr(preprocessed_image,pred_bbox,pred_text,wers,font_size=int(0.007*preprocessed_image.shape[0]),thickness=int(0.001*preprocessed_image.shape[0])+1)\n",
    "    plt.figure(figsize=(36, 24))\n",
    "    plt.imshow(image_with_ocr)\n",
    "    plt.axis('off')\n",
    "    plt.title(perform_stages)\n",
    "    plt.show()\n",
    "\n"
   ]
  }
 ],
 "metadata": {
  "kernelspec": {
   "display_name": "Python 3 (ipykernel)",
   "language": "python",
   "name": "python3"
  },
  "language_info": {
   "codemirror_mode": {
    "name": "ipython",
    "version": 3
   },
   "file_extension": ".py",
   "mimetype": "text/x-python",
   "name": "python",
   "nbconvert_exporter": "python",
   "pygments_lexer": "ipython3",
   "version": "3.11.3"
  }
 },
 "nbformat": 4,
 "nbformat_minor": 5
}
